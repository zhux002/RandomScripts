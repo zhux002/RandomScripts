{
 "cells": [
  {
   "cell_type": "code",
   "execution_count": 11,
   "metadata": {},
   "outputs": [],
   "source": [
    "from scipy import fftpack\n",
    "import numpy as np\n",
    "import imageio\n",
    "from PIL import Image, ImageDraw\n",
    "\n",
    "contrast = 0.04\n",
    "image1 = imageio.imread('image.jpeg',as_gray=True)\n",
    "\n",
    "#convert image to numpy array\n",
    "image1_np=np.array(image1)\n",
    "\n",
    "#fft of image\n",
    "fft1 = fftpack.fftshift(fftpack.fft2(image1_np))\n",
    "\n",
    "#Create a low pass filter image\n",
    "x,y = image1_np.shape[0],image1_np.shape[1]\n",
    "#size of circle\n",
    "e_x,e_y=80,80\n",
    "#create a box \n",
    "bbox=((x/2)-(e_x/2),(y/2)-(e_y/2),(x/2)+(e_x/2),(y/2)+(e_y/2))\n",
    "\n",
    "low_pass=Image.new(\"L\",(image1_np.shape[0],image1_np.shape[1]),color=0)\n",
    "\n",
    "draw1=ImageDraw.Draw(low_pass)\n",
    "draw1.ellipse(bbox, fill=1)\n",
    "\n",
    "low_pass_np=np.array(low_pass)\n",
    "\n",
    "#multiply both the images\n",
    "filtered=np.multiply(fft1,low_pass_np)\n",
    "\n",
    "#inverse fft\n",
    "ifft2 = np.real(fftpack.ifft2(fftpack.ifftshift(filtered)))\n",
    "ifft2 = 255-np.maximum(0, np.minimum(ifft2, 255))*contrast\n",
    "\n",
    "#save the image\n",
    "imageio.imsave('fft-then-ifft.png', ifft2.astype(np .uint8))"
   ]
  },
  {
   "cell_type": "code",
   "execution_count": null,
   "metadata": {},
   "outputs": [],
   "source": []
  }
 ],
 "metadata": {
  "kernelspec": {
   "display_name": "Python 3",
   "language": "python",
   "name": "python3"
  },
  "language_info": {
   "codemirror_mode": {
    "name": "ipython",
    "version": 3
   },
   "file_extension": ".py",
   "mimetype": "text/x-python",
   "name": "python",
   "nbconvert_exporter": "python",
   "pygments_lexer": "ipython3",
   "version": "3.8.5"
  }
 },
 "nbformat": 4,
 "nbformat_minor": 4
}
